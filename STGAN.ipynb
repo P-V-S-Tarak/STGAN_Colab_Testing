{
  "cells": [
    {
      "cell_type": "markdown",
      "metadata": {
        "id": "view-in-github",
        "colab_type": "text"
      },
      "source": [
        "<a href=\"https://colab.research.google.com/github/P-V-S-Tarak/STGAN_Colab_Testing/blob/main/STGAN.ipynb\" target=\"_parent\"><img src=\"https://colab.research.google.com/assets/colab-badge.svg\" alt=\"Open In Colab\"/></a>"
      ]
    },
    {
      "cell_type": "markdown",
      "source": [
        "# **Testing Facial Attribute Transfer Using STGAN**\n",
        "\n",
        "---\n",
        "For testing facial attribute transfer using STGAN, we have used the implemenation of the author available on https://github.com/csmliu/STGAN. We are using the pre-trained model trained by the author for testing purposes.\n",
        "\n",
        "For knowing about what STGAN is, please refer to https://arxiv.org/abs/1904.09709\n",
        "\n",
        "---\n",
        "Prerequisites:\n",
        "* Tensorflow (1.x)\n",
        "* Python 3.x with matplotlib, numpy and scipy(1.1)\n",
        "\n",
        "Dataset: We use the CelebA dataset (https://mmlab.ie.cuhk.edu.hk/projects/CelebA.html) for testing purposes .\n",
        "\n",
        "\n",
        "\n",
        "---\n",
        "### **Installing the required python libraries**\n"
      ],
      "metadata": {
        "id": "3DMDr7j6vFFG"
      }
    },
    {
      "cell_type": "code",
      "execution_count": null,
      "metadata": {
        "id": "CIRZogNKuaDf"
      },
      "outputs": [],
      "source": [
        "!apt-get install python3.6\n",
        "%tensorflow_version 1.x\n",
        "!pip install scipy==1.1"
      ]
    },
    {
      "cell_type": "markdown",
      "metadata": {
        "id": "BaG7O-lgr8t3"
      },
      "source": [
        "\n",
        "\n",
        "---\n",
        "\n",
        "\n",
        "#### **Mounting Google Drive**\n",
        "First we are mounting our google drive to colab so that all the files that we download are stored and we do not need to download them again for future use"
      ]
    },
    {
      "cell_type": "code",
      "execution_count": null,
      "metadata": {
        "id": "y6prgSQ5hNi3"
      },
      "outputs": [],
      "source": [
        "from google.colab import drive\n",
        "drive.mount('/content/gdrive')"
      ]
    },
    {
      "cell_type": "markdown",
      "source": [
        "In this cell, we change the directory to **MyDrive** in our Google Drive."
      ],
      "metadata": {
        "id": "jQW1mCOJxJEY"
      }
    },
    {
      "cell_type": "code",
      "execution_count": null,
      "metadata": {
        "colab": {
          "base_uri": "https://localhost:8080/"
        },
        "id": "X5GLiKUBirHD",
        "outputId": "d9ee2e6b-b3de-4205-f350-17c5f4914550"
      },
      "outputs": [
        {
          "output_type": "stream",
          "name": "stdout",
          "text": [
            "/content/gdrive/MyDrive\n"
          ]
        }
      ],
      "source": [
        "%cd /content/gdrive/MyDrive"
      ]
    },
    {
      "cell_type": "markdown",
      "source": [
        "\n",
        "\n",
        "---\n",
        "### **Cloning the github repository of STGAN implementation**\n"
      ],
      "metadata": {
        "id": "rmfKoXl5xgTE"
      }
    },
    {
      "cell_type": "markdown",
      "source": [
        "Now, we clone the github repository of the official STGAN implementation to our Google drive."
      ],
      "metadata": {
        "id": "miCS5fLExxmP"
      }
    },
    {
      "cell_type": "code",
      "execution_count": null,
      "metadata": {
        "id": "N1DJc9iFjAjF"
      },
      "outputs": [],
      "source": [
        "# This cell needs to be run only once, if you have already cloned the repository once, you dont need to clone it again.\n",
        "# Uncomment and run the line below to clone the required repo\n",
        "!git clone 'https://github.com/csmliu/STGAN.git'"
      ]
    },
    {
      "cell_type": "markdown",
      "source": [
        "\n",
        "\n",
        "---\n",
        "### **Setting up the data**\n",
        "**This data setup only needs to be done if running for the first time.**\n",
        "* First, create an empty folder named ***data*** in the ***STGAN*** folder that is created in your Google drive. \n",
        "* Then execute the commands given below."
      ],
      "metadata": {
        "id": "L-dW3jCnyj6O"
      }
    },
    {
      "cell_type": "code",
      "execution_count": null,
      "metadata": {
        "id": "gYa8jRRhjGUP"
      },
      "outputs": [],
      "source": [
        "# changing the directory to the data root\n",
        "%cd /content/gdrive/MyDrive/STGAN/data\n",
        "# Downloading the zip file containing aligned images from https://drive.google.com/file/u/1/d/0B7EVK8r0v71pZjFTYXZWM3FlRnM/view?usp=drive_open\n",
        "!gdown --id 0B7EVK8r0v71pZjFTYXZWM3FlRnM\n",
        "# Downloading the attribute list for images from https://drive.google.com/file/d/0B7EVK8r0v71pblRyaVFSWGxPY0U/view?resourcekey=0-YW2qIuRcWHy_1C2VaRGL3Q\n",
        "!gdown --id 0B7EVK8r0v71pblRyaVFSWGxPY0U\n",
        "#Unzipping img_align_celeba.zip\n",
        "!unzip '/content/gdrive/MyDrive/STGAN/data/img_align_celeba.zip'"
      ]
    },
    {
      "cell_type": "code",
      "source": [
        ""
      ],
      "metadata": {
        "id": "anRyX50b-XEb"
      },
      "execution_count": null,
      "outputs": []
    },
    {
      "cell_type": "markdown",
      "source": [
        "\n",
        "\n",
        "---\n",
        "### **Downloading the pre-trained model**\n",
        "**The model installation only needs to be done if running for the first time.**\n",
        "* First, create an empty folder named ***output*** in the ***STGAN*** folder that is present in your Google drive. \n",
        "* Then execute the commands given below."
      ],
      "metadata": {
        "id": "CvIDdpVj4II1"
      }
    },
    {
      "cell_type": "code",
      "execution_count": null,
      "metadata": {
        "id": "EsZwIgUlQkAH"
      },
      "outputs": [],
      "source": [
        "# changing the present working directory to install the pre-trained model\n",
        "%cd /content/gdrive/MyDrive/STGAN/output\n",
        "# downloading the pre-trained model from https://drive.google.com/file/d/1329IbLE6877DcDUut1reKxckijBJye7N/view\n",
        "!gdown --id 1329IbLE6877DcDUut1reKxckijBJye7N\n",
        "# unzipping the pre-trained model\n",
        "!tar -xzvf \"/content/gdrive/MyDrive/STGAN/output/128.tar.gz\" "
      ]
    },
    {
      "cell_type": "markdown",
      "source": [
        "\n",
        "\n",
        "---\n",
        "\n",
        "\n",
        "### **Testing the model for images from the CelebA dataset**\n",
        "\n",
        "\n",
        "*   In ***line 30*** of ***test.py*** file available in your ***STGAN folder***, change the location of the ***default dataroot*** to '/***content/gdrive/MyDrive/STGAN/data***'.\n",
        "*   Then follow the steps below to test your code on the dataset images.\n",
        "*  The output images are stored to ***'/content/gdrive/MyDrive/STGAN/output'*** \n",
        "\n"
      ],
      "metadata": {
        "id": "_Zw1Vmvp6jMU"
      }
    },
    {
      "cell_type": "code",
      "execution_count": 3,
      "metadata": {
        "id": "ef_GCr0TWqjr",
        "colab": {
          "base_uri": "https://localhost:8080/"
        },
        "outputId": "cf9d4998-7904-406c-c9ce-9c7cd5a27836"
      },
      "outputs": [
        {
          "output_type": "stream",
          "name": "stdout",
          "text": [
            "/content/gdrive/MyDrive/STGAN\n"
          ]
        }
      ],
      "source": [
        "# changing the directory to STGAN folder\n",
        "%cd /content/gdrive/MyDrive/STGAN"
      ]
    },
    {
      "cell_type": "markdown",
      "source": [
        "**Example of testing single attribute**"
      ],
      "metadata": {
        "id": "1LFesIhZjYkp"
      }
    },
    {
      "cell_type": "code",
      "execution_count": null,
      "metadata": {
        "id": "kbUe9Tw6TeHp"
      },
      "outputs": [],
      "source": [
        "!python test.py --experiment_name 128 --img 200007 200008 200009 200010 200011 200012"
      ]
    },
    {
      "cell_type": "markdown",
      "source": [
        "**Example of testing multiple attributes**"
      ],
      "metadata": {
        "id": "iGFcx_WqkkHr"
      }
    },
    {
      "cell_type": "code",
      "execution_count": null,
      "metadata": {
        "id": "ryMLNmhhU8uP"
      },
      "outputs": [],
      "source": [
        "!python test.py --experiment_name 128 --test_atts Brown_Hair Pale_Skin --img 200004 "
      ]
    },
    {
      "cell_type": "markdown",
      "source": [
        "**Example of Attribute intensity control**"
      ],
      "metadata": {
        "id": "FOOEFufek0Xn"
      }
    },
    {
      "cell_type": "code",
      "source": [
        "!python test.py --experiment_name 128 --test_slide --test_att Male --img 200001 200002 200003"
      ],
      "metadata": {
        "id": "685YtbB_lHgJ"
      },
      "execution_count": null,
      "outputs": []
    },
    {
      "cell_type": "markdown",
      "source": [
        "**Note:**\n",
        "\n",
        "\n",
        "*   You can ***specify which image(s) to test*** by adding ***--img num*** (e.g., --img 182638, --img 200000 200001 200002), where the number should be no larger than 202599 and is suggested to be no smaller than 182638 as test set starts at 182638.png.\n",
        "*   You should give the path of the data by adding ***--dataroot DATAROOT***\n",
        "\n",
        "***For testing on your own images,*** \n",
        "\n",
        "*   Resize your image(s) to ***178x218*** and change the resolution to ***96 dpi*** and place them into a folder named ***img_align_celeba***\n",
        "*   Create a ***list_attr_celeba.txt*** file in the ***format of*** ***list_attr_celeba.txt from the CelebA dataset***\n",
        "* Place your new ***img_align_celeba*** and new ***list_attr_celeba.txt*** in a folder named ***custom***\n",
        "* While testing , add ***--dataroot PATH_TO_CUSTOM*** to test it on your custom image(s), where ***PATH_TO_CUSTOM*** is the path to your ***custom*** folder.\n",
        "\n",
        "\n",
        "\n",
        "\n"
      ],
      "metadata": {
        "id": "YD5vsgDrlYJU"
      }
    },
    {
      "cell_type": "code",
      "source": [
        ""
      ],
      "metadata": {
        "id": "7JU9RT38RidU"
      },
      "execution_count": null,
      "outputs": []
    }
  ],
  "metadata": {
    "colab": {
      "collapsed_sections": [],
      "name": "STGAN.ipynb",
      "provenance": [],
      "authorship_tag": "ABX9TyONpsXa8bstWMYHKLTy0fAo",
      "include_colab_link": true
    },
    "gpuClass": "standard",
    "kernelspec": {
      "display_name": "Python 3",
      "name": "python3"
    },
    "language_info": {
      "name": "python"
    }
  },
  "nbformat": 4,
  "nbformat_minor": 0
}